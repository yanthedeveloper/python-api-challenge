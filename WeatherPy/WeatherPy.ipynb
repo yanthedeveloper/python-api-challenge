{
 "cells": [
  {
   "cell_type": "markdown",
   "metadata": {},
   "source": [
    "# WeatherPy\n",
    "----\n",
    "\n",
    "#### Note\n",
    "* Instructions have been included for each segment. You do not have to follow them exactly, but they are included to help you think through the steps."
   ]
  },
  {
   "cell_type": "code",
   "execution_count": 2,
   "metadata": {
    "scrolled": true
   },
   "outputs": [],
   "source": [
    "# Dependencies and Setup\n",
    "import matplotlib.pyplot as plt\n",
    "import pandas as pd\n",
    "import numpy as np\n",
    "import requests\n",
    "import time\n",
    "from scipy.stats import linregress\n",
    "from pprint import pprint\n",
    "import sys\n",
    "sys.setrecursionlimit(1500)\n",
    "\n",
    "# Import API key\n",
    "from api_keys import weather_api_key\n",
    "\n",
    "# Incorporated citipy to determine city based on latitude and longitude\n",
    "from citipy import citipy\n",
    "\n",
    "# Output File (CSV)\n",
    "output_data_file = \"output_data/cities.csv\"\n",
    "\n",
    "# Range of latitudes and longitudes\n",
    "lat_range = (-90, 90)\n",
    "lng_range = (-180, 180)"
   ]
  },
  {
   "cell_type": "markdown",
   "metadata": {},
   "source": [
    "## Generate Cities List"
   ]
  },
  {
   "cell_type": "code",
   "execution_count": 3,
   "metadata": {},
   "outputs": [
    {
     "data": {
      "text/plain": [
       "626"
      ]
     },
     "execution_count": 3,
     "metadata": {},
     "output_type": "execute_result"
    }
   ],
   "source": [
    "# List for holding lat_lngs and cities\n",
    "lat_lngs = []\n",
    "cities = []\n",
    "\n",
    "# Create a set of random lat and lng combinations\n",
    "lats = np.random.uniform(low=-90.000, high=90.000, size=1500)\n",
    "lngs = np.random.uniform(low=-180.000, high=180.000, size=1500)\n",
    "lat_lngs = zip(lats, lngs)\n",
    "\n",
    "# Identify nearest city for each lat, lng combination\n",
    "for lat_lng in lat_lngs:\n",
    "    city = citipy.nearest_city(lat_lng[0], lat_lng[1]).city_name\n",
    "    \n",
    "    # If the city is unique, then add it to our cities list\n",
    "    if city not in cities:\n",
    "        cities.append(city)\n",
    "\n",
    "# Print the city count to confirm sufficient count\n",
    "len(cities)"
   ]
  },
  {
   "cell_type": "markdown",
   "metadata": {},
   "source": [
    "### Perform API Calls\n",
    "* Perform a weather check on each city using a series of successive API calls.\n",
    "* Include a print log of each city as it'sbeing processed (with the city number and city name).\n"
   ]
  },
  {
   "cell_type": "code",
   "execution_count": 4,
   "metadata": {},
   "outputs": [
    {
     "name": "stdout",
     "output_type": "stream",
     "text": [
      "city not found\n",
      "Processing record city number 2 | Chui\n",
      "city not found\n",
      "Processing record city number 4 | Port Alfred\n",
      "Processing record city number 5 | Berlevag\n",
      "Processing record city number 6 | Camacha\n",
      "Processing record city number 7 | Naze\n",
      "Processing record city number 8 | Mount Isa\n",
      "city not found\n",
      "Processing record city number 10 | Atuona\n",
      "Processing record city number 11 | Rikitea\n",
      "Processing record city number 12 | Pangnirtung\n",
      "Processing record city number 13 | Qaanaaq\n",
      "Processing record city number 14 | Mareeba\n",
      "Processing record city number 15 | Bubaque\n",
      "Processing record city number 16 | Pacific Grove\n",
      "Processing record city number 17 | Tiksi\n",
      "Processing record city number 18 | Sao Filipe\n",
      "Processing record city number 19 | Biak\n",
      "city not found\n",
      "Processing record city number 21 | Castro\n",
      "city not found\n",
      "Processing record city number 23 | Ushuaia\n",
      "Processing record city number 24 | Pevek\n",
      "Processing record city number 25 | Barrow\n",
      "Processing record city number 26 | Vestmannaeyjar\n",
      "Processing record city number 27 | Dikson\n",
      "Processing record city number 28 | Yangi Marg`ilon\n",
      "Processing record city number 29 | Albany\n",
      "city not found\n",
      "Processing record city number 31 | Punta Arenas\n",
      "Processing record city number 32 | Puerto Ayora\n",
      "Processing record city number 33 | Ponta do Sol\n",
      "Processing record city number 34 | Hilo\n",
      "Processing record city number 35 | Auki\n",
      "Processing record city number 36 | Tuatapere\n",
      "Processing record city number 37 | Busselton\n",
      "Processing record city number 38 | Jamestown\n",
      "Processing record city number 39 | Bethel\n",
      "Processing record city number 40 | Nikolskoye\n",
      "Processing record city number 41 | Pisco\n",
      "Processing record city number 42 | New Norfolk\n",
      "Processing record city number 43 | Cape Town\n",
      "city not found\n",
      "Processing record city number 45 | Rio Grande\n",
      "Processing record city number 46 | Vaini\n",
      "Processing record city number 47 | Bengkulu\n",
      "Processing record city number 48 | Carballo\n",
      "Processing record city number 49 | Nefteyugansk\n",
      "Processing record city number 50 | Yarmouth\n",
      "Processing record city number 51 | Maraba\n",
      "Processing record city number 52 | Lambari\n",
      "Processing record city number 53 | Quattro Castella\n",
      "Processing record city number 54 | Mariel\n",
      "Processing record city number 55 | Shache\n",
      "Processing record city number 56 | Kurilsk\n",
      "Processing record city number 57 | Hobart\n",
      "Processing record city number 58 | Khasan\n",
      "city not found\n",
      "Processing record city number 60 | Sorland\n",
      "Processing record city number 61 | Mar del Plata\n",
      "Processing record city number 62 | Xining\n",
      "Processing record city number 63 | Kathmandu\n",
      "city not found\n",
      "city not found\n",
      "Processing record city number 66 | Butaritari\n",
      "city not found\n",
      "Processing record city number 68 | San Julian\n",
      "Processing record city number 69 | Chake Chake\n",
      "Processing record city number 70 | Patacamaya\n",
      "Processing record city number 71 | Barra de Tecoanapa\n",
      "Processing record city number 72 | Asau\n",
      "Processing record city number 73 | Honiara\n",
      "Processing record city number 74 | Ahipara\n",
      "Processing record city number 75 | Yelizovo\n",
      "Processing record city number 76 | Hermanus\n",
      "Processing record city number 77 | Port Augusta\n",
      "Processing record city number 78 | College\n",
      "Processing record city number 79 | Ludvika\n",
      "Processing record city number 80 | Akdepe\n",
      "Processing record city number 81 | Makat\n",
      "Processing record city number 82 | Geraldton\n",
      "Processing record city number 83 | Labytnangi\n",
      "Processing record city number 84 | Urumqi\n",
      "Processing record city number 85 | Takapau\n",
      "Processing record city number 86 | Mataura\n",
      "Processing record city number 87 | Luderitz\n",
      "Processing record city number 88 | Ust-Kuyga\n",
      "Processing record city number 89 | East London\n",
      "Processing record city number 90 | Vostok\n",
      "Processing record city number 91 | Mamlyutka\n",
      "Processing record city number 92 | Cherskiy\n",
      "Processing record city number 93 | Jianning\n",
      "Processing record city number 94 | Saint-Louis\n",
      "Processing record city number 95 | Mahebourg\n",
      "city not found\n",
      "Processing record city number 97 | Vanimo\n",
      "city not found\n",
      "Processing record city number 99 | Voh\n",
      "Processing record city number 100 | Nizwa\n",
      "Processing record city number 101 | Torbay\n",
      "Processing record city number 102 | George Town\n",
      "Processing record city number 103 | Abonnema\n",
      "Processing record city number 104 | Luanda\n",
      "Processing record city number 105 | Khani\n",
      "Processing record city number 106 | Ngunguru\n",
      "Processing record city number 107 | Charyshskoye\n",
      "Processing record city number 108 | Cockburn Town\n",
      "Processing record city number 109 | Norrtaelje\n",
      "Processing record city number 110 | Mehran\n",
      "Processing record city number 111 | Dehloran\n",
      "Processing record city number 112 | Klaksvik\n",
      "Processing record city number 113 | Port Blair\n",
      "Processing record city number 114 | Rocha\n",
      "Processing record city number 115 | Barrinha\n",
      "city not found\n",
      "Processing record city number 117 | Jodiya\n",
      "Processing record city number 118 | Wamba\n",
      "Processing record city number 119 | Anadyr\n",
      "Processing record city number 120 | Hay River\n",
      "Processing record city number 121 | Pareora\n",
      "Processing record city number 122 | Huarmey\n",
      "city not found\n",
      "Processing record city number 124 | Taurianova\n",
      "Processing record city number 125 | Kralendijk\n",
      "Processing record city number 126 | Yeniseysk\n",
      "Processing record city number 127 | Tigre\n",
      "Processing record city number 128 | Sola\n",
      "Processing record city number 129 | Kapaa\n",
      "Processing record city number 130 | La Ronge\n",
      "Processing record city number 131 | Upernavik\n",
      "Processing record city number 132 | Avarua\n",
      "city not found\n",
      "city not found\n",
      "Processing record city number 135 | Amga\n",
      "Processing record city number 136 | San Patricio\n",
      "Processing record city number 137 | Hasaki\n",
      "Processing record city number 138 | Bluff\n",
      "Processing record city number 139 | Airai\n",
      "Processing record city number 140 | Evensk\n",
      "city not found\n",
      "city not found\n",
      "Processing record city number 143 | Khanbari\n",
      "Processing record city number 144 | Lagoa\n",
      "Processing record city number 145 | Oranjemund\n",
      "Processing record city number 146 | Port Elizabeth\n",
      "Processing record city number 147 | Pendleton\n",
      "Processing record city number 148 | Saint-Joseph\n",
      "Processing record city number 149 | Namatanai\n",
      "Processing record city number 150 | Victor Harbor\n",
      "Processing record city number 151 | Batagay\n",
      "city not found\n",
      "Processing record city number 153 | Luebo\n",
      "Processing record city number 154 | Mount Gambier\n",
      "Processing record city number 155 | Huilong\n",
      "Processing record city number 156 | Hithadhoo\n",
      "Processing record city number 157 | Imbituba\n",
      "Processing record city number 158 | Narsaq\n",
      "Processing record city number 159 | Amparafaravola\n",
      "Processing record city number 160 | Jalu\n",
      "Processing record city number 161 | Provideniya\n",
      "Processing record city number 162 | Yellowknife\n",
      "Processing record city number 163 | Lujan\n",
      "Processing record city number 164 | Calbuco\n",
      "Processing record city number 165 | Norman Wells\n",
      "Processing record city number 166 | Pallasovka\n",
      "Processing record city number 167 | Port Lincoln\n",
      "Processing record city number 168 | La Romana\n",
      "Processing record city number 169 | Natal\n",
      "Processing record city number 170 | Flin Flon\n",
      "Processing record city number 171 | Santa Cruz de la Sierra\n",
      "Processing record city number 172 | Kodiak\n",
      "Processing record city number 173 | Vardo\n",
      "Processing record city number 174 | Vila Franca do Campo\n",
      "Processing record city number 175 | Birin\n",
      "Processing record city number 176 | Samana\n",
      "Processing record city number 177 | Guadalupe y Calvo\n",
      "Processing record city number 178 | Puerto Rondon\n",
      "Processing record city number 179 | Laas\n",
      "Processing record city number 180 | Silver City\n",
      "Processing record city number 181 | Ciudad Lazaro Cardenas\n",
      "Processing record city number 182 | Leh\n",
      "Processing record city number 183 | Cervo\n",
      "Processing record city number 184 | Muyezerskiy\n",
      "Processing record city number 185 | Chokurdakh\n",
      "Processing record city number 186 | Thompson\n",
      "Processing record city number 187 | Sitka\n",
      "Processing record city number 188 | Saldanha\n",
      "Processing record city number 189 | Hong Kong\n",
      "Processing record city number 190 | La Rioja\n",
      "Processing record city number 191 | Dwarka\n",
      "Processing record city number 192 | Ayame\n",
      "Processing record city number 193 | Vao\n",
      "Processing record city number 194 | Nar'yan-Mar\n",
      "Processing record city number 195 | Ribeira Grande\n",
      "Processing record city number 196 | Pogar\n",
      "Processing record city number 197 | Skibbereen\n"
     ]
    },
    {
     "name": "stdout",
     "output_type": "stream",
     "text": [
      "Processing record city number 198 | Sabang\n",
      "Processing record city number 199 | Ponta Delgada\n",
      "city not found\n",
      "Processing record city number 201 | Lompoc\n",
      "Processing record city number 202 | Mossamedes\n",
      "Processing record city number 203 | Marakkanam\n",
      "Processing record city number 204 | San Jorge\n",
      "Processing record city number 205 | Makakilo City\n",
      "Processing record city number 206 | Faya\n",
      "Processing record city number 207 | Jining\n",
      "Processing record city number 208 | Sisimiut\n",
      "Processing record city number 209 | Bambous Virieux\n",
      "Processing record city number 210 | Kavieng\n",
      "Processing record city number 211 | Bredasdorp\n",
      "Processing record city number 212 | Dabat\n",
      "Processing record city number 213 | Jiangyou\n",
      "Processing record city number 214 | Zhigalovo\n",
      "Processing record city number 215 | Nenton\n",
      "Processing record city number 216 | Xinzhou\n",
      "city not found\n",
      "Processing record city number 218 | Bariloche\n",
      "Processing record city number 219 | Khatanga\n",
      "city not found\n",
      "Processing record city number 221 | Faanui\n",
      "Processing record city number 222 | Devils Lake\n",
      "Processing record city number 223 | Severodvinsk\n",
      "Processing record city number 224 | Iskateley\n",
      "Processing record city number 225 | Fairbanks\n",
      "Processing record city number 226 | Itaituba\n",
      "Processing record city number 227 | Souillac\n",
      "Processing record city number 228 | Northam\n",
      "Processing record city number 229 | Tuktoyaktuk\n",
      "Processing record city number 230 | Saint-Leu\n",
      "Processing record city number 231 | Saint George\n",
      "Processing record city number 232 | Severo-Kuril'sk\n",
      "Processing record city number 233 | Weligama\n",
      "Processing record city number 234 | Abalak\n",
      "Processing record city number 235 | Lamu\n",
      "Processing record city number 236 | Diapaga\n",
      "Processing record city number 237 | Saint-Philippe\n",
      "Processing record city number 238 | Tres Arroyos\n",
      "Processing record city number 239 | Lulea\n",
      "Processing record city number 240 | Ketchikan\n",
      "Processing record city number 241 | Waynesville\n",
      "Processing record city number 242 | Vila Velha\n",
      "Processing record city number 243 | Burnie\n",
      "Processing record city number 244 | Ilo\n",
      "Processing record city number 245 | Dongsheng\n",
      "Processing record city number 246 | Bosaso\n",
      "city not found\n",
      "Processing record city number 248 | Dingle\n",
      "city not found\n",
      "Processing record city number 250 | Ordzhonikidze\n",
      "Processing record city number 251 | Umea\n",
      "city not found\n",
      "Processing record city number 253 | Zhuhai\n",
      "Processing record city number 254 | Ibotirama\n",
      "Processing record city number 255 | Te Horo\n",
      "Processing record city number 256 | Lavrentiya\n",
      "Processing record city number 257 | Zhigansk\n",
      "city not found\n",
      "Processing record city number 259 | Jieshi\n",
      "Processing record city number 260 | Tasiilaq\n",
      "Processing record city number 261 | Kutum\n",
      "Processing record city number 262 | Paveh\n",
      "Processing record city number 263 | Bumba\n",
      "Processing record city number 264 | Comodoro Rivadavia\n",
      "Processing record city number 265 | Portland\n",
      "Processing record city number 266 | Buenos Aires\n",
      "Processing record city number 267 | San Quintin\n",
      "city not found\n",
      "Processing record city number 269 | Yanam\n",
      "Processing record city number 270 | Santa Ana\n",
      "Processing record city number 271 | Prince Rupert\n",
      "Processing record city number 272 | Saskylakh\n",
      "Processing record city number 273 | Esim\n",
      "Processing record city number 274 | Jatiroto\n",
      "Processing record city number 275 | Mecca\n",
      "Processing record city number 276 | Birjand\n",
      "Processing record city number 277 | Aguimes\n",
      "Processing record city number 278 | Durban\n",
      "Processing record city number 279 | Isangel\n",
      "city not found\n",
      "Processing record city number 281 | Olinda\n",
      "Processing record city number 282 | Mezen\n",
      "Processing record city number 283 | Bajram Curri\n",
      "city not found\n",
      "city not found\n",
      "Processing record city number 286 | Codrington\n",
      "Processing record city number 287 | Lebu\n",
      "Processing record city number 288 | Shorap'ani\n",
      "Processing record city number 289 | Kaitangata\n",
      "Processing record city number 290 | Tezu\n",
      "Processing record city number 291 | Okha\n",
      "Processing record city number 292 | Acapulco de Juarez\n",
      "Processing record city number 293 | Kaeo\n",
      "Processing record city number 294 | Kruisfontein\n",
      "Processing record city number 295 | Flinders\n",
      "Processing record city number 296 | Richards Bay\n",
      "Processing record city number 297 | Saint Anthony\n",
      "Processing record city number 298 | Bilma\n",
      "Processing record city number 299 | Sinnamary\n",
      "Processing record city number 300 | San Cristobal\n",
      "city not found\n",
      "Processing record city number 302 | Ilulissat\n",
      "Processing record city number 303 | Esperance\n",
      "Processing record city number 304 | Dekar\n",
      "Processing record city number 305 | Maniitsoq\n",
      "Processing record city number 306 | Foz do Iguacu\n",
      "city not found\n",
      "Processing record city number 308 | Apaseo el Alto\n",
      "Processing record city number 309 | Pemangkat\n",
      "Processing record city number 310 | Tazovsky\n",
      "Processing record city number 311 | Khandyga\n",
      "Processing record city number 312 | Ulaangom\n",
      "Processing record city number 313 | Moerai\n",
      "Processing record city number 314 | Gushi\n",
      "Processing record city number 315 | Praia da Vitoria\n",
      "Processing record city number 316 | Halifax\n",
      "Processing record city number 317 | Vera Cruz\n",
      "Processing record city number 318 | Nelson Bay\n",
      "Processing record city number 319 | Eirunepe\n",
      "Processing record city number 320 | Kabakovo\n",
      "Processing record city number 321 | Gainesville\n",
      "Processing record city number 322 | Bima\n",
      "Processing record city number 323 | Dalvik\n",
      "Processing record city number 324 | Talnakh\n",
      "Processing record city number 325 | Amapa\n",
      "Processing record city number 326 | Baykit\n",
      "Processing record city number 327 | Langsa\n",
      "Processing record city number 328 | Santiago del Estero\n",
      "Processing record city number 329 | North Bend\n",
      "Processing record city number 330 | Sala\n",
      "Processing record city number 331 | Caravelas\n",
      "Processing record city number 332 | Hualmay\n",
      "Processing record city number 333 | Arraial do Cabo\n",
      "Processing record city number 334 | Cooma\n",
      "Processing record city number 335 | Shelburne\n",
      "Processing record city number 336 | Loreto\n",
      "Processing record city number 337 | Baracoa\n",
      "Processing record city number 338 | Rancho Palos Verdes\n",
      "Processing record city number 339 | Longyearbyen\n",
      "Processing record city number 340 | Lydenburg\n",
      "Processing record city number 341 | Tessalit\n",
      "Processing record city number 342 | Iqaluit\n",
      "city not found\n",
      "Processing record city number 344 | Alihe\n",
      "Processing record city number 345 | Zaragoza\n",
      "Processing record city number 346 | Monrovia\n",
      "Processing record city number 347 | Kyle\n",
      "Processing record city number 348 | Leningradskiy\n",
      "Processing record city number 349 | Dunedin\n",
      "Processing record city number 350 | Rome\n",
      "Processing record city number 351 | Bama\n",
      "Processing record city number 352 | Pakokku\n",
      "city not found\n",
      "Processing record city number 354 | Male\n",
      "Processing record city number 355 | Marawi\n",
      "Processing record city number 356 | Obera\n",
      "city not found\n",
      "Processing record city number 358 | Yertsevo\n",
      "city not found\n",
      "Processing record city number 360 | Jaisalmer\n",
      "Processing record city number 361 | Carnarvon\n",
      "Processing record city number 362 | Chatham\n",
      "Processing record city number 363 | Fort Nelson\n",
      "Processing record city number 364 | Katsuura\n",
      "Processing record city number 365 | Ambilobe\n",
      "Processing record city number 366 | Syracuse\n",
      "Processing record city number 367 | Vaitape\n",
      "Processing record city number 368 | Kyabe\n",
      "Processing record city number 369 | Madang\n",
      "Processing record city number 370 | Peniche\n",
      "Processing record city number 371 | Isla Mujeres\n",
      "Processing record city number 372 | Kendari\n",
      "Processing record city number 373 | Lucapa\n",
      "Processing record city number 374 | Mehamn\n",
      "Processing record city number 375 | Laguna\n",
      "Processing record city number 376 | Ossora\n",
      "Processing record city number 377 | Omsukchan\n",
      "Processing record city number 378 | Alekseyevsk\n",
      "Processing record city number 379 | Paramonga\n",
      "Processing record city number 380 | Tual\n",
      "Processing record city number 381 | Ambon\n",
      "Processing record city number 382 | Fukuecho\n",
      "city not found\n",
      "city not found\n",
      "Processing record city number 385 | Xudat\n",
      "Processing record city number 386 | Springbok\n",
      "Processing record city number 387 | Ajdabiya\n",
      "Processing record city number 388 | Lasem\n",
      "Processing record city number 389 | Waingapu\n",
      "Processing record city number 390 | Ciudad del Maiz\n",
      "Processing record city number 391 | Nantucket\n"
     ]
    },
    {
     "name": "stdout",
     "output_type": "stream",
     "text": [
      "Processing record city number 392 | Horki\n",
      "Processing record city number 393 | Hambantota\n",
      "Processing record city number 394 | Capinzal\n",
      "Processing record city number 395 | Concordia\n",
      "Processing record city number 396 | Korla\n",
      "Processing record city number 397 | Atemar\n",
      "Processing record city number 398 | Cidreira\n",
      "Processing record city number 399 | Mumford\n",
      "Processing record city number 400 | Beinamar\n",
      "Processing record city number 401 | Shingu\n",
      "city not found\n",
      "Processing record city number 403 | Lautaro\n",
      "Processing record city number 404 | Meulaboh\n",
      "city not found\n",
      "Processing record city number 406 | Elko\n",
      "Processing record city number 407 | North Adams\n",
      "Processing record city number 408 | Nome\n",
      "Processing record city number 409 | Abu Dhabi\n",
      "Processing record city number 410 | Broome\n",
      "Processing record city number 411 | Marsh Harbour\n",
      "city not found\n",
      "Processing record city number 413 | Karakol\n",
      "Processing record city number 414 | Galveston\n",
      "Processing record city number 415 | Deputatsky\n",
      "Processing record city number 416 | Nishihara\n",
      "Processing record city number 417 | Pochutla\n",
      "Processing record city number 418 | Price\n",
      "Processing record city number 419 | Bilibino\n",
      "Processing record city number 420 | Puerto Madero\n",
      "Processing record city number 421 | Kushiro\n",
      "Processing record city number 422 | Bonavista\n",
      "Processing record city number 423 | Malbork\n",
      "Processing record city number 424 | Copiapo\n",
      "city not found\n",
      "Processing record city number 426 | Carinhanha\n",
      "Processing record city number 427 | Chapais\n",
      "Processing record city number 428 | Taltal\n",
      "Processing record city number 429 | Kurchum\n",
      "Processing record city number 430 | West Fargo\n",
      "city not found\n",
      "Processing record city number 432 | Chandler\n",
      "Processing record city number 433 | Zhetysay\n",
      "Processing record city number 434 | Caceres\n",
      "Processing record city number 435 | Puerto Narino\n",
      "Processing record city number 436 | Privolzhye\n",
      "Processing record city number 437 | Hirara\n",
      "Processing record city number 438 | Wau\n",
      "Processing record city number 439 | Port-Gentil\n",
      "Processing record city number 440 | Itarema\n",
      "Processing record city number 441 | Artigas\n",
      "Processing record city number 442 | Port Harcourt\n",
      "Processing record city number 443 | Fortuna\n",
      "Processing record city number 444 | Flagstaff\n",
      "Processing record city number 445 | Carutapera\n",
      "Processing record city number 446 | Timra\n",
      "Processing record city number 447 | Udachny\n",
      "Processing record city number 448 | Hailun\n",
      "city not found\n",
      "city not found\n",
      "Processing record city number 451 | Jinchang\n",
      "Processing record city number 452 | Kuytun\n",
      "Processing record city number 453 | Bria\n",
      "Processing record city number 454 | Denpasar\n",
      "Processing record city number 455 | Mataundh\n",
      "Processing record city number 456 | Swellendam\n",
      "Processing record city number 457 | Rosario do Sul\n",
      "Processing record city number 458 | Seoul\n",
      "Processing record city number 459 | Mandalgovi\n",
      "city not found\n",
      "Processing record city number 461 | Makarov\n",
      "Processing record city number 462 | Wodonga\n",
      "Processing record city number 463 | Sao Felix do Xingu\n",
      "city not found\n",
      "Processing record city number 465 | Jitauna\n",
      "Processing record city number 466 | Alta Floresta\n",
      "Processing record city number 467 | Calama\n",
      "Processing record city number 468 | Hoquiam\n",
      "Processing record city number 469 | Caibarien\n",
      "Processing record city number 470 | Santa Rosa\n",
      "Processing record city number 471 | Petropavlovsk-Kamchatsky\n",
      "Processing record city number 472 | Makubetsu\n",
      "Processing record city number 473 | Rawson\n",
      "Processing record city number 474 | Dalbandin\n",
      "Processing record city number 475 | Lata\n",
      "Processing record city number 476 | Kulhudhuffushi\n",
      "city not found\n",
      "Processing record city number 478 | Kem\n",
      "Processing record city number 479 | Makaleng\n",
      "Processing record city number 480 | Kwekwe\n",
      "Processing record city number 481 | Port Hedland\n",
      "Processing record city number 482 | Payo\n",
      "Processing record city number 483 | Vila\n",
      "Processing record city number 484 | High Level\n",
      "Processing record city number 485 | Channel-Port aux Basques\n",
      "Processing record city number 486 | Nicoya\n",
      "Processing record city number 487 | Namikupa\n",
      "Processing record city number 488 | Lewistown\n",
      "city not found\n",
      "Processing record city number 490 | Labuhan\n",
      "Processing record city number 491 | Mazagao\n",
      "Processing record city number 492 | Road Town\n",
      "Processing record city number 493 | San Jeronimo\n",
      "Processing record city number 494 | Olafsvik\n",
      "Processing record city number 495 | Kaka\n",
      "Processing record city number 496 | Viedma\n",
      "Processing record city number 497 | 'Ahuimanu\n",
      "Processing record city number 498 | Garissa\n",
      "Processing record city number 499 | Vung Tau\n",
      "Processing record city number 500 | Wanaka\n",
      "city not found\n",
      "Processing record city number 502 | Shibetsu\n",
      "Processing record city number 503 | Boysun\n",
      "Processing record city number 504 | Ostrovnoy\n",
      "Processing record city number 505 | Daru\n",
      "Processing record city number 506 | Cabo San Lucas\n",
      "Processing record city number 507 | Mandal\n",
      "Processing record city number 508 | Payakumbuh\n",
      "Processing record city number 509 | Poum\n",
      "Processing record city number 510 | Grand Gaube\n",
      "Processing record city number 511 | Coahuayana Viejo\n",
      "Processing record city number 512 | Kasongo-Lunda\n",
      "Processing record city number 513 | Santa Cruz de la Palma\n",
      "Processing record city number 514 | Timizart\n",
      "Processing record city number 515 | Nuevitas\n",
      "Processing record city number 516 | Tefe\n",
      "Processing record city number 517 | Nuuk\n",
      "Processing record city number 518 | Mayumba\n",
      "Processing record city number 519 | Logumkloster\n",
      "Processing record city number 520 | Makokou\n",
      "Processing record city number 521 | Hauzenberg\n",
      "Processing record city number 522 | Kuching\n",
      "Processing record city number 523 | Mabai\n",
      "Processing record city number 524 | Izumo\n",
      "Processing record city number 525 | Babu\n",
      "Processing record city number 526 | Coquimbo\n",
      "Processing record city number 527 | Aniva\n",
      "Processing record city number 528 | Esmeralda\n",
      "Processing record city number 529 | Nanortalik\n",
      "Processing record city number 530 | Bathsheba\n",
      "Processing record city number 531 | Coyhaique\n",
      "Processing record city number 532 | Mangan\n",
      "Processing record city number 533 | Sistranda\n",
      "Processing record city number 534 | Aksarka\n",
      "city not found\n",
      "Processing record city number 536 | Graaff-Reinet\n",
      "Processing record city number 537 | Heyang\n",
      "Processing record city number 538 | Aquiraz\n",
      "Processing record city number 539 | Marbella\n",
      "city not found\n",
      "Processing record city number 541 | Mahasamund\n",
      "Processing record city number 542 | Bonthe\n",
      "Processing record city number 543 | Beni Suef\n",
      "Processing record city number 544 | Mtambile\n",
      "Processing record city number 545 | Hofn\n",
      "Processing record city number 546 | Tromso\n",
      "Processing record city number 547 | Rundu\n",
      "Processing record city number 548 | Umm Kaddadah\n",
      "Processing record city number 549 | Goundi\n",
      "Processing record city number 550 | Pueblo Nuevo\n",
      "Processing record city number 551 | Gorontalo\n",
      "Processing record city number 552 | Adrar\n",
      "Processing record city number 553 | Avera\n",
      "Processing record city number 554 | Lakatoro\n",
      "Processing record city number 555 | San Rafael\n",
      "Processing record city number 556 | Benjamin Aceval\n",
      "Processing record city number 557 | Myaundzha\n",
      "Processing record city number 558 | Ca Mau\n",
      "Processing record city number 559 | Tautira\n",
      "Processing record city number 560 | Beloha\n",
      "Processing record city number 561 | Port Macquarie\n",
      "Processing record city number 562 | Banda Aceh\n",
      "Processing record city number 563 | Shitanjing\n",
      "Processing record city number 564 | Coeneo de la Libertad\n",
      "Processing record city number 565 | Cap Malheureux\n",
      "Processing record city number 566 | Vinh Long\n",
      "Processing record city number 567 | Krasnosel'kup\n",
      "Processing record city number 568 | Makow Mazowiecki\n",
      "Processing record city number 569 | Bom Jesus da Lapa\n",
      "Processing record city number 570 | Beringovskiy\n",
      "Processing record city number 571 | Ibra\n",
      "Processing record city number 572 | Maksatikha\n",
      "Processing record city number 573 | Zambezi\n",
      "Processing record city number 574 | Grindavik\n",
      "city not found\n",
      "Processing record city number 576 | Tancanhuitz\n",
      "city not found\n",
      "Processing record city number 578 | Piacabucu\n",
      "Processing record city number 579 | Dera Ghazi Khan\n",
      "city not found\n",
      "Processing record city number 581 | Beira\n",
      "Processing record city number 582 | Awjilah\n",
      "Processing record city number 583 | Inhambane\n"
     ]
    },
    {
     "name": "stdout",
     "output_type": "stream",
     "text": [
      "Processing record city number 584 | Bethanien\n",
      "Processing record city number 585 | Maba\n",
      "Processing record city number 586 | Clyde River\n",
      "Processing record city number 587 | Russellville\n",
      "Processing record city number 588 | Kachug\n",
      "Processing record city number 589 | Mayo\n",
      "Processing record city number 590 | Egvekinot\n",
      "Processing record city number 591 | Port Hardy\n",
      "city not found\n",
      "Processing record city number 593 | Kroya\n",
      "Processing record city number 594 | Benghazi\n",
      "Processing record city number 595 | Moree\n",
      "Processing record city number 596 | Rio Gallegos\n",
      "Processing record city number 597 | Sur\n",
      "Processing record city number 598 | Pechenga\n",
      "Processing record city number 599 | Vigeland\n",
      "Processing record city number 600 | Belyy Yar\n",
      "city not found\n",
      "Processing record city number 602 | Moindou\n",
      "Processing record city number 603 | Lar\n",
      "Processing record city number 604 | Menomonie\n",
      "Processing record city number 605 | Belawan\n",
      "Processing record city number 606 | The Valley\n",
      "Processing record city number 607 | Yerbogachen\n",
      "Processing record city number 608 | Yichang\n",
      "Processing record city number 609 | Nizhniy Odes\n",
      "Processing record city number 610 | San Bartolo Cuitareo\n",
      "Processing record city number 611 | Thinadhoo\n",
      "Processing record city number 612 | Okato\n",
      "city not found\n",
      "Processing record city number 614 | Necochea\n",
      "Processing record city number 615 | Touros\n",
      "Processing record city number 616 | Sile\n",
      "Processing record city number 617 | Valparaiso\n",
      "Processing record city number 618 | Ozernovskiy\n",
      "Processing record city number 619 | Virginia Beach\n",
      "Processing record city number 620 | Tondi\n",
      "Processing record city number 621 | Binzhou\n",
      "Processing record city number 622 | Samarai\n",
      "Processing record city number 623 | Aasiaat\n",
      "Processing record city number 624 | Soyo\n",
      "Processing record city number 625 | Jalingo\n",
      "Processing record city number 626 | Grajau\n"
     ]
    }
   ],
   "source": [
    "temp = []\n",
    "humidity = []\n",
    "cloudiness = []\n",
    "windSpeed = []\n",
    "all_cities = []\n",
    "lat = []\n",
    "long = []\n",
    "indexNum = 0\n",
    "\n",
    "url = \"http://api.openweathermap.org/data/2.5/weather?\"\n",
    "units = \"imperial\"\n",
    "# Build partial query URL\n",
    "query_url = f\"{url}appid={weather_api_key}&units={units}&q=\"\n",
    "\n",
    "for city in cities:\n",
    "    indexNum = indexNum+1\n",
    "    try:\n",
    "        response = requests.get(query_url + city).json()\n",
    "        lat.append(response['coord']['lat'])\n",
    "        long.append(response['coord']['lon'])\n",
    "        cityName = response[\"name\"]\n",
    "        all_cities.append(response[\"name\"])\n",
    "        cloudiness.append(response[\"clouds\"][\"all\"])\n",
    "        humidity.append(response[\"main\"][\"humidity\"])\n",
    "        temp.append(response[\"main\"][\"temp\"])\n",
    "        windSpeed.append(response[\"wind\"][\"speed\"])\n",
    "        print(f\"Processing record city number {indexNum} | {cityName}\")\n",
    "        time.sleep(1.01)\n",
    "    except:\n",
    "        print(\"city not found\")\n",
    "    continue"
   ]
  },
  {
   "cell_type": "markdown",
   "metadata": {},
   "source": [
    "### Convert Raw Data to DataFrame\n",
    "* Export the city data into a .csv.\n",
    "* Display the DataFrame"
   ]
  },
  {
   "cell_type": "code",
   "execution_count": 5,
   "metadata": {},
   "outputs": [
    {
     "data": {
      "text/html": [
       "<div>\n",
       "<style scoped>\n",
       "    .dataframe tbody tr th:only-of-type {\n",
       "        vertical-align: middle;\n",
       "    }\n",
       "\n",
       "    .dataframe tbody tr th {\n",
       "        vertical-align: top;\n",
       "    }\n",
       "\n",
       "    .dataframe thead th {\n",
       "        text-align: right;\n",
       "    }\n",
       "</style>\n",
       "<table border=\"1\" class=\"dataframe\">\n",
       "  <thead>\n",
       "    <tr style=\"text-align: right;\">\n",
       "      <th></th>\n",
       "      <th>City</th>\n",
       "      <th>Temp</th>\n",
       "      <th>Humidity</th>\n",
       "      <th>Cloudiness</th>\n",
       "      <th>Wind Speed</th>\n",
       "      <th>Latitude</th>\n",
       "      <th>Longitude</th>\n",
       "    </tr>\n",
       "  </thead>\n",
       "  <tbody>\n",
       "    <tr>\n",
       "      <th>0</th>\n",
       "      <td>Chui</td>\n",
       "      <td>68.63</td>\n",
       "      <td>85</td>\n",
       "      <td>0</td>\n",
       "      <td>13.29</td>\n",
       "      <td>-33.70</td>\n",
       "      <td>-53.46</td>\n",
       "    </tr>\n",
       "    <tr>\n",
       "      <th>1</th>\n",
       "      <td>Port Alfred</td>\n",
       "      <td>66.99</td>\n",
       "      <td>85</td>\n",
       "      <td>60</td>\n",
       "      <td>5.01</td>\n",
       "      <td>-33.59</td>\n",
       "      <td>26.89</td>\n",
       "    </tr>\n",
       "    <tr>\n",
       "      <th>2</th>\n",
       "      <td>Berlevag</td>\n",
       "      <td>24.10</td>\n",
       "      <td>67</td>\n",
       "      <td>65</td>\n",
       "      <td>23.00</td>\n",
       "      <td>70.86</td>\n",
       "      <td>29.09</td>\n",
       "    </tr>\n",
       "    <tr>\n",
       "      <th>3</th>\n",
       "      <td>Camacha</td>\n",
       "      <td>60.03</td>\n",
       "      <td>77</td>\n",
       "      <td>20</td>\n",
       "      <td>6.93</td>\n",
       "      <td>33.08</td>\n",
       "      <td>-16.33</td>\n",
       "    </tr>\n",
       "    <tr>\n",
       "      <th>4</th>\n",
       "      <td>Naze</td>\n",
       "      <td>64.40</td>\n",
       "      <td>52</td>\n",
       "      <td>75</td>\n",
       "      <td>12.75</td>\n",
       "      <td>28.37</td>\n",
       "      <td>129.48</td>\n",
       "    </tr>\n",
       "    <tr>\n",
       "      <th>...</th>\n",
       "      <td>...</td>\n",
       "      <td>...</td>\n",
       "      <td>...</td>\n",
       "      <td>...</td>\n",
       "      <td>...</td>\n",
       "      <td>...</td>\n",
       "      <td>...</td>\n",
       "    </tr>\n",
       "    <tr>\n",
       "      <th>562</th>\n",
       "      <td>Samarai</td>\n",
       "      <td>89.78</td>\n",
       "      <td>57</td>\n",
       "      <td>23</td>\n",
       "      <td>7.02</td>\n",
       "      <td>-10.62</td>\n",
       "      <td>150.67</td>\n",
       "    </tr>\n",
       "    <tr>\n",
       "      <th>563</th>\n",
       "      <td>Aasiaat</td>\n",
       "      <td>3.69</td>\n",
       "      <td>93</td>\n",
       "      <td>92</td>\n",
       "      <td>13.85</td>\n",
       "      <td>68.71</td>\n",
       "      <td>-52.87</td>\n",
       "    </tr>\n",
       "    <tr>\n",
       "      <th>564</th>\n",
       "      <td>Soyo</td>\n",
       "      <td>79.97</td>\n",
       "      <td>84</td>\n",
       "      <td>100</td>\n",
       "      <td>3.49</td>\n",
       "      <td>-6.13</td>\n",
       "      <td>12.37</td>\n",
       "    </tr>\n",
       "    <tr>\n",
       "      <th>565</th>\n",
       "      <td>Jalingo</td>\n",
       "      <td>69.35</td>\n",
       "      <td>19</td>\n",
       "      <td>0</td>\n",
       "      <td>4.99</td>\n",
       "      <td>8.88</td>\n",
       "      <td>11.37</td>\n",
       "    </tr>\n",
       "    <tr>\n",
       "      <th>566</th>\n",
       "      <td>Grajau</td>\n",
       "      <td>72.12</td>\n",
       "      <td>95</td>\n",
       "      <td>52</td>\n",
       "      <td>3.62</td>\n",
       "      <td>-5.82</td>\n",
       "      <td>-46.14</td>\n",
       "    </tr>\n",
       "  </tbody>\n",
       "</table>\n",
       "<p>567 rows × 7 columns</p>\n",
       "</div>"
      ],
      "text/plain": [
       "            City   Temp  Humidity  Cloudiness  Wind Speed  Latitude  Longitude\n",
       "0           Chui  68.63        85           0       13.29    -33.70     -53.46\n",
       "1    Port Alfred  66.99        85          60        5.01    -33.59      26.89\n",
       "2       Berlevag  24.10        67          65       23.00     70.86      29.09\n",
       "3        Camacha  60.03        77          20        6.93     33.08     -16.33\n",
       "4           Naze  64.40        52          75       12.75     28.37     129.48\n",
       "..           ...    ...       ...         ...         ...       ...        ...\n",
       "562      Samarai  89.78        57          23        7.02    -10.62     150.67\n",
       "563      Aasiaat   3.69        93          92       13.85     68.71     -52.87\n",
       "564         Soyo  79.97        84         100        3.49     -6.13      12.37\n",
       "565      Jalingo  69.35        19           0        4.99      8.88      11.37\n",
       "566       Grajau  72.12        95          52        3.62     -5.82     -46.14\n",
       "\n",
       "[567 rows x 7 columns]"
      ]
     },
     "execution_count": 5,
     "metadata": {},
     "output_type": "execute_result"
    }
   ],
   "source": [
    "df = pd.DataFrame({\"City\": all_cities, \"Temp\": temp, \"Humidity\": humidity,\n",
    "                  \"Cloudiness\": cloudiness, \"Wind Speed\": windSpeed,\n",
    "                  \"Latitude\": lat, \"Longitude\": long})\n",
    "df"
   ]
  },
  {
   "cell_type": "code",
   "execution_count": 6,
   "metadata": {},
   "outputs": [],
   "source": [
    "#convert dataframe into a csv\n",
    "df.to_csv(r'../weather.csv')"
   ]
  },
  {
   "cell_type": "markdown",
   "metadata": {},
   "source": [
    "### Plotting the Data\n",
    "* Use proper labeling of the plots using plot titles (including date of analysis) and axes labels.\n",
    "* Save the plotted figures as .pngs."
   ]
  },
  {
   "cell_type": "markdown",
   "metadata": {},
   "source": [
    "#### Latitude vs. Temperature Plot"
   ]
  },
  {
   "cell_type": "code",
   "execution_count": 7,
   "metadata": {
    "scrolled": true
   },
   "outputs": [
    {
     "data": {
      "image/png": "[encoded data removed]",
      "text/plain": [
       "<Figure size 432x288 with 1 Axes>"
      ]
     },
     "metadata": {
      "needs_background": "light"
     },
     "output_type": "display_data"
    }
   ],
   "source": [
    "f = plt.figure()\n",
    "plt.scatter(df[\"Latitude\"], df[\"Temp\"])\n",
    "plt.title(\"Latitude vs. Temperature\")\n",
    "plt.xlabel(\"Latitude\")\n",
    "plt.ylabel(\"Temperature\")\n",
    "f.savefig(\"lattemp.png\")\n",
    "plt.show()"
   ]
  },
  {
   "cell_type": "code",
   "execution_count": null,
   "metadata": {},
   "outputs": [],
   "source": [
    "\"\"\"Southern Hemisphere temperature increases as you move closer to the equator\n",
    "and as you cross the equator line and begin to move further away from it,\n",
    "the temperature begins to decrease\n",
    "\"\"\""
   ]
  },
  {
   "cell_type": "markdown",
   "metadata": {},
   "source": [
    "#### Latitude vs. Humidity Plot"
   ]
  },
  {
   "cell_type": "code",
   "execution_count": 8,
   "metadata": {
    "scrolled": true
   },
   "outputs": [
    {
     "data": {
      "image/png": "[encoded data removed]",
      "text/plain": [
       "<Figure size 432x288 with 1 Axes>"
      ]
     },
     "metadata": {
      "needs_background": "light"
     },
     "output_type": "display_data"
    }
   ],
   "source": [
    "f = plt.figure()\n",
    "plt.scatter(df[\"Latitude\"], df[\"Humidity\"])\n",
    "plt.title(\"Latitude vs. Humidity\")\n",
    "plt.xlabel(\"Latitude\")\n",
    "plt.ylabel(\"Humidity\")\n",
    "f.savefig(\"lathum.png\")\n",
    "plt.show()"
   ]
  },
  {
   "cell_type": "code",
   "execution_count": null,
   "metadata": {},
   "outputs": [],
   "source": [
    "\"\"\"\n",
    "Humidity is high in the extremes.\n",
    "\"\"\""
   ]
  },
  {
   "cell_type": "markdown",
   "metadata": {},
   "source": [
    "#### Latitude vs. Cloudiness Plot"
   ]
  },
  {
   "cell_type": "code",
   "execution_count": 9,
   "metadata": {
    "scrolled": true
   },
   "outputs": [
    {
     "data": {
      "image/png": "[encoded data removed]",
      "text/plain": [
       "<Figure size 432x288 with 1 Axes>"
      ]
     },
     "metadata": {
      "needs_background": "light"
     },
     "output_type": "display_data"
    }
   ],
   "source": [
    "f = plt.figure()\n",
    "plt.scatter(df[\"Latitude\"], df[\"Cloudiness\"])\n",
    "plt.title(\"Latitude vs Cloudiness\")\n",
    "plt.xlabel(\"Latitude\")\n",
    "plt.ylabel(\"Cloudiness\")\n",
    "f.savefig(\"latcloud.png\")\n",
    "plt.show()"
   ]
  },
  {
   "cell_type": "code",
   "execution_count": null,
   "metadata": {},
   "outputs": [],
   "source": [
    "\"\"\"\n",
    "There is no clear relationship between latitude and longititude, we notice\n",
    "that the percent of cloudiness is pretty consistent throughout the whole\n",
    "plot\n",
    "\"\"\""
   ]
  },
  {
   "cell_type": "markdown",
   "metadata": {},
   "source": [
    "#### Latitude vs. Wind Speed Plot"
   ]
  },
  {
   "cell_type": "code",
   "execution_count": 10,
   "metadata": {
    "scrolled": true
   },
   "outputs": [
    {
     "data": {
      "image/png": "[encoded data removed]",
      "text/plain": [
       "<Figure size 432x288 with 1 Axes>"
      ]
     },
     "metadata": {
      "needs_background": "light"
     },
     "output_type": "display_data"
    }
   ],
   "source": [
    "f = plt.figure()\n",
    "plt.scatter(df[\"Latitude\"], df[\"Wind Speed\"])\n",
    "plt.title(\"Latitude vs Wind Speed\")\n",
    "plt.xlabel(\"Latitude\")\n",
    "plt.ylabel(\"Wind Speed\")\n",
    "f.savefig(\"latwind.png\")\n",
    "plt.show()"
   ]
  },
  {
   "cell_type": "code",
   "execution_count": null,
   "metadata": {},
   "outputs": [],
   "source": [
    "\"\"\"\n",
    "Average windspeed is somewhere between 0 and 20 miles an hour and is \n",
    "consistent throughout all latitudes.\n",
    "\"\"\""
   ]
  },
  {
   "cell_type": "markdown",
   "metadata": {},
   "source": [
    "## Linear Regression"
   ]
  },
  {
   "cell_type": "code",
   "execution_count": 11,
   "metadata": {},
   "outputs": [],
   "source": [
    "# OPTIONAL: Create a function to create Linear Regression plots\n",
    "def regression (x_values, y_values, x_label, y_label, title, filename):\n",
    "    (slope, intercept, rvalue, pvalue, stderr) = linregress(x_values, y_values)\n",
    "    regress_values = x_values * slope + intercept\n",
    "    line_eq = \"y = \" + str(round(slope,2)) + \"x + \" + str(round(intercept,2))\n",
    "    f = plt.figure()\n",
    "    plt.scatter(x_values,y_values)\n",
    "    plt.xlabel(x_label)\n",
    "    plt.ylabel(y_label)\n",
    "    plt.title(title)\n",
    "    plt.plot(x_values,regress_values,\"r-\")\n",
    "    plt.annotate(line_eq,(6,10),fontsize=15,color=\"red\")\n",
    "    f.savefig(filename)\n",
    "    plt.show()\n",
    "    print(line_eq)"
   ]
  },
  {
   "cell_type": "code",
   "execution_count": 12,
   "metadata": {
    "scrolled": true
   },
   "outputs": [
    {
     "data": {
      "text/html": [
       "<div>\n",
       "<style scoped>\n",
       "    .dataframe tbody tr th:only-of-type {\n",
       "        vertical-align: middle;\n",
       "    }\n",
       "\n",
       "    .dataframe tbody tr th {\n",
       "        vertical-align: top;\n",
       "    }\n",
       "\n",
       "    .dataframe thead th {\n",
       "        text-align: right;\n",
       "    }\n",
       "</style>\n",
       "<table border=\"1\" class=\"dataframe\">\n",
       "  <thead>\n",
       "    <tr style=\"text-align: right;\">\n",
       "      <th></th>\n",
       "      <th>City</th>\n",
       "      <th>Temp</th>\n",
       "      <th>Humidity</th>\n",
       "      <th>Cloudiness</th>\n",
       "      <th>Wind Speed</th>\n",
       "      <th>Latitude</th>\n",
       "      <th>Longitude</th>\n",
       "    </tr>\n",
       "  </thead>\n",
       "  <tbody>\n",
       "    <tr>\n",
       "      <th>0</th>\n",
       "      <td>Chui</td>\n",
       "      <td>68.63</td>\n",
       "      <td>85</td>\n",
       "      <td>0</td>\n",
       "      <td>13.29</td>\n",
       "      <td>-33.70</td>\n",
       "      <td>-53.46</td>\n",
       "    </tr>\n",
       "    <tr>\n",
       "      <th>1</th>\n",
       "      <td>Port Alfred</td>\n",
       "      <td>66.99</td>\n",
       "      <td>85</td>\n",
       "      <td>60</td>\n",
       "      <td>5.01</td>\n",
       "      <td>-33.59</td>\n",
       "      <td>26.89</td>\n",
       "    </tr>\n",
       "    <tr>\n",
       "      <th>5</th>\n",
       "      <td>Mount Isa</td>\n",
       "      <td>77.00</td>\n",
       "      <td>100</td>\n",
       "      <td>75</td>\n",
       "      <td>13.87</td>\n",
       "      <td>-20.73</td>\n",
       "      <td>139.50</td>\n",
       "    </tr>\n",
       "    <tr>\n",
       "      <th>6</th>\n",
       "      <td>Atuona</td>\n",
       "      <td>80.91</td>\n",
       "      <td>79</td>\n",
       "      <td>32</td>\n",
       "      <td>13.62</td>\n",
       "      <td>-9.80</td>\n",
       "      <td>-139.03</td>\n",
       "    </tr>\n",
       "    <tr>\n",
       "      <th>7</th>\n",
       "      <td>Rikitea</td>\n",
       "      <td>79.79</td>\n",
       "      <td>78</td>\n",
       "      <td>100</td>\n",
       "      <td>6.22</td>\n",
       "      <td>-23.12</td>\n",
       "      <td>-134.97</td>\n",
       "    </tr>\n",
       "    <tr>\n",
       "      <th>...</th>\n",
       "      <td>...</td>\n",
       "      <td>...</td>\n",
       "      <td>...</td>\n",
       "      <td>...</td>\n",
       "      <td>...</td>\n",
       "      <td>...</td>\n",
       "      <td>...</td>\n",
       "    </tr>\n",
       "    <tr>\n",
       "      <th>555</th>\n",
       "      <td>Touros</td>\n",
       "      <td>78.80</td>\n",
       "      <td>88</td>\n",
       "      <td>40</td>\n",
       "      <td>2.24</td>\n",
       "      <td>-5.20</td>\n",
       "      <td>-35.46</td>\n",
       "    </tr>\n",
       "    <tr>\n",
       "      <th>557</th>\n",
       "      <td>Valparaiso</td>\n",
       "      <td>61.81</td>\n",
       "      <td>88</td>\n",
       "      <td>40</td>\n",
       "      <td>4.70</td>\n",
       "      <td>-33.04</td>\n",
       "      <td>-71.63</td>\n",
       "    </tr>\n",
       "    <tr>\n",
       "      <th>562</th>\n",
       "      <td>Samarai</td>\n",
       "      <td>89.78</td>\n",
       "      <td>57</td>\n",
       "      <td>23</td>\n",
       "      <td>7.02</td>\n",
       "      <td>-10.62</td>\n",
       "      <td>150.67</td>\n",
       "    </tr>\n",
       "    <tr>\n",
       "      <th>564</th>\n",
       "      <td>Soyo</td>\n",
       "      <td>79.97</td>\n",
       "      <td>84</td>\n",
       "      <td>100</td>\n",
       "      <td>3.49</td>\n",
       "      <td>-6.13</td>\n",
       "      <td>12.37</td>\n",
       "    </tr>\n",
       "    <tr>\n",
       "      <th>566</th>\n",
       "      <td>Grajau</td>\n",
       "      <td>72.12</td>\n",
       "      <td>95</td>\n",
       "      <td>52</td>\n",
       "      <td>3.62</td>\n",
       "      <td>-5.82</td>\n",
       "      <td>-46.14</td>\n",
       "    </tr>\n",
       "  </tbody>\n",
       "</table>\n",
       "<p>194 rows × 7 columns</p>\n",
       "</div>"
      ],
      "text/plain": [
       "            City   Temp  Humidity  Cloudiness  Wind Speed  Latitude  Longitude\n",
       "0           Chui  68.63        85           0       13.29    -33.70     -53.46\n",
       "1    Port Alfred  66.99        85          60        5.01    -33.59      26.89\n",
       "5      Mount Isa  77.00       100          75       13.87    -20.73     139.50\n",
       "6         Atuona  80.91        79          32       13.62     -9.80    -139.03\n",
       "7        Rikitea  79.79        78         100        6.22    -23.12    -134.97\n",
       "..           ...    ...       ...         ...         ...       ...        ...\n",
       "555       Touros  78.80        88          40        2.24     -5.20     -35.46\n",
       "557   Valparaiso  61.81        88          40        4.70    -33.04     -71.63\n",
       "562      Samarai  89.78        57          23        7.02    -10.62     150.67\n",
       "564         Soyo  79.97        84         100        3.49     -6.13      12.37\n",
       "566       Grajau  72.12        95          52        3.62     -5.82     -46.14\n",
       "\n",
       "[194 rows x 7 columns]"
      ]
     },
     "execution_count": 12,
     "metadata": {},
     "output_type": "execute_result"
    }
   ],
   "source": [
    "# Create Northern and Southern Hemisphere DataFrames\n",
    "northHem = df[df['Latitude'] > 0]\n",
    "northHem\n",
    "southernHem = df[df['Latitude'] < 0]\n",
    "southernHem"
   ]
  },
  {
   "cell_type": "markdown",
   "metadata": {},
   "source": [
    "####  Northern Hemisphere - Max Temp vs. Latitude Linear Regression"
   ]
  },
  {
   "cell_type": "code",
   "execution_count": 13,
   "metadata": {},
   "outputs": [
    {
     "data": {
      "image/png": "[encoded data removed]",
      "text/plain": [
       "<Figure size 432x288 with 1 Axes>"
      ]
     },
     "metadata": {
      "needs_background": "light"
     },
     "output_type": "display_data"
    },
    {
     "name": "stdout",
     "output_type": "stream",
     "text": [
      "y = -0.59x + 61.55\n"
     ]
    }
   ],
   "source": [
    "regression(northHem['Temp'], northHem['Latitude'], \"Northen Hem. Temp\",\n",
    "          \"Northern Hem. Lat\", \"Northern Hem. Temp vs Latitude\", \n",
    "          \"northtemplat.png\")"
   ]
  },
  {
   "cell_type": "markdown",
   "metadata": {},
   "source": [
    "####  Southern Hemisphere - Max Temp vs. Latitude Linear Regression"
   ]
  },
  {
   "cell_type": "code",
   "execution_count": 16,
   "metadata": {
    "scrolled": false
   },
   "outputs": [
    {
     "data": {
      "image/png": "[encoded data removed]",
      "text/plain": [
       "<Figure size 432x288 with 1 Axes>"
      ]
     },
     "metadata": {
      "needs_background": "light"
     },
     "output_type": "display_data"
    },
    {
     "name": "stdout",
     "output_type": "stream",
     "text": [
      "y = 0.63x + -68.71\n"
     ]
    }
   ],
   "source": [
    "regression(southernHem['Temp'], southernHem['Latitude'], \"Southern Hem. Temp\",\n",
    "          \"Southern Hem. Latitude\", \"Southern Hem. Temp vs Latitude\",\n",
    "          \"southhemtemplat.png\")"
   ]
  },
  {
   "cell_type": "code",
   "execution_count": null,
   "metadata": {},
   "outputs": [],
   "source": [
    "\"\"\"\n",
    "In the first plot we oberve that Northern Hemisphere temperature and \n",
    "latitude display a negative linear relationship. We know this because \n",
    "temperature increases as latitude decreases.\n",
    "\n",
    "In this second plot we observe a positive linear relationship between\n",
    "southern hemisphere temperature and latitude. As latitude increases, \n",
    "temperature also increases.\n",
    "\"\"\""
   ]
  },
  {
   "cell_type": "markdown",
   "metadata": {},
   "source": [
    "####  Northern Hemisphere - Humidity (%) vs. Latitude Linear Regression"
   ]
  },
  {
   "cell_type": "code",
   "execution_count": 14,
   "metadata": {},
   "outputs": [
    {
     "data": {
      "image/png": "[encoded data removed]",
      "text/plain": [
       "<Figure size 432x288 with 1 Axes>"
      ]
     },
     "metadata": {
      "needs_background": "light"
     },
     "output_type": "display_data"
    },
    {
     "name": "stdout",
     "output_type": "stream",
     "text": [
      "y = 0.38x + 10.54\n"
     ]
    }
   ],
   "source": [
    "regression(northHem['Humidity'], northHem['Latitude'], \"Northern Hem. Humidity\",\n",
    "          \"Northern Hem. Latitude\", \"Northern Hem. Humidity vs Latitude\",\n",
    "          \"northhumlat.png\")"
   ]
  },
  {
   "cell_type": "markdown",
   "metadata": {},
   "source": [
    "####  Southern Hemisphere - Humidity (%) vs. Latitude Linear Regression"
   ]
  },
  {
   "cell_type": "code",
   "execution_count": 15,
   "metadata": {
    "scrolled": true
   },
   "outputs": [
    {
     "data": {
      "image/png": "[encoded data removed]",
      "text/plain": [
       "<Figure size 432x288 with 1 Axes>"
      ]
     },
     "metadata": {
      "needs_background": "light"
     },
     "output_type": "display_data"
    },
    {
     "name": "stdout",
     "output_type": "stream",
     "text": [
      "y = 0.2x + -37.31\n"
     ]
    }
   ],
   "source": [
    "regression(southernHem['Humidity'], southernHem['Latitude'], \"Southern Hem. Humidity\", \n",
    "          \"Southern Hem. Latitude\", \"Southern Hem. Humidity vs. Latitude\",\n",
    "          \"southhumlat.png\")"
   ]
  },
  {
   "cell_type": "code",
   "execution_count": null,
   "metadata": {},
   "outputs": [],
   "source": [
    "\"\"\"\n",
    "In both of the humidity plots, we observe that there is a positive \n",
    "linear relationship between northern and southern humidity and latitude.\n",
    "Humidity increases as latitude increases for both hemishperes.\n",
    "\n",
    "\"\"\""
   ]
  },
  {
   "cell_type": "markdown",
   "metadata": {},
   "source": [
    "####  Northern Hemisphere - Cloudiness (%) vs. Latitude Linear Regression"
   ]
  },
  {
   "cell_type": "code",
   "execution_count": 17,
   "metadata": {},
   "outputs": [
    {
     "data": {
      "image/png": "[encoded data removed]",
      "text/plain": [
       "<Figure size 432x288 with 1 Axes>"
      ]
     },
     "metadata": {
      "needs_background": "light"
     },
     "output_type": "display_data"
    },
    {
     "name": "stdout",
     "output_type": "stream",
     "text": [
      "y = 0.17x + 30.19\n"
     ]
    }
   ],
   "source": [
    "regression(northHem['Cloudiness'], northHem['Latitude'], \"Northern Hem. Cloudiness\",\n",
    "          \"Northern Hem. Latitude\", \"Northern Hem. Cloudiness vs Latitude\",\n",
    "          \"northcloudlat.png\")"
   ]
  },
  {
   "cell_type": "markdown",
   "metadata": {},
   "source": [
    "####  Southern Hemisphere - Cloudiness (%) vs. Latitude Linear Regression"
   ]
  },
  {
   "cell_type": "code",
   "execution_count": 18,
   "metadata": {
    "scrolled": true
   },
   "outputs": [
    {
     "data": {
      "image/png": "[encoded data removed]",
      "text/plain": [
       "<Figure size 432x288 with 1 Axes>"
      ]
     },
     "metadata": {
      "needs_background": "light"
     },
     "output_type": "display_data"
    },
    {
     "name": "stdout",
     "output_type": "stream",
     "text": [
      "y = 0.05x + -25.03\n"
     ]
    }
   ],
   "source": [
    "regression(southernHem['Cloudiness'], southernHem['Latitude'], \"Southern Hem. Cloudiness\",\n",
    "          \"Southern Hem. Latitude\", \"Southern Hem. Cloudiness vs Latitude\",\n",
    "          \"southcloudlat.png\")"
   ]
  },
  {
   "cell_type": "code",
   "execution_count": null,
   "metadata": {},
   "outputs": [],
   "source": [
    "\"\"\"\n",
    "In the above two plots, we observe that there is somewhat of a positive\n",
    "linear relationship between latitude and cloudiness in both hemispheres.\n",
    "Even though the relationshp is techincally positive, there isn't much, the\n",
    "coefficient isn't that large, thus making it difficult to get an accurate\n",
    "depiction on what the cloudiness would be at a given latitude or what\n",
    "the latitude would be for a given percent of cloudiness.\n",
    "\"\"\""
   ]
  },
  {
   "cell_type": "markdown",
   "metadata": {},
   "source": [
    "####  Northern Hemisphere - Wind Speed (mph) vs. Latitude Linear Regression"
   ]
  },
  {
   "cell_type": "code",
   "execution_count": 19,
   "metadata": {},
   "outputs": [
    {
     "data": {
      "image/png": "[encoded data removed]",
      "text/plain": [
       "<Figure size 432x288 with 1 Axes>"
      ]
     },
     "metadata": {
      "needs_background": "light"
     },
     "output_type": "display_data"
    },
    {
     "name": "stdout",
     "output_type": "stream",
     "text": [
      "y = 0.35x + 36.27\n"
     ]
    }
   ],
   "source": [
    "regression(northHem['Wind Speed'], northHem['Latitude'], \"Northern Hem. Wind Speed\", \n",
    "          \"Northern Hem. Latitude\", \"Norther Hem. Wind Speed vs. Latitude\",\n",
    "          \"northwindlat.png\")"
   ]
  },
  {
   "cell_type": "markdown",
   "metadata": {},
   "source": [
    "####  Southern Hemisphere - Wind Speed (mph) vs. Latitude Linear Regression"
   ]
  },
  {
   "cell_type": "code",
   "execution_count": 20,
   "metadata": {
    "scrolled": false
   },
   "outputs": [
    {
     "data": {
      "image/png": "[encoded data removed]",
      "text/plain": [
       "<Figure size 432x288 with 1 Axes>"
      ]
     },
     "metadata": {
      "needs_background": "light"
     },
     "output_type": "display_data"
    },
    {
     "name": "stdout",
     "output_type": "stream",
     "text": [
      "y = -0.78x + -16.19\n"
     ]
    }
   ],
   "source": [
    "regression(southernHem['Wind Speed'], southernHem['Latitude'], \"Southern Hem. Wind Speed\", \n",
    "          \"Southern Hem. Latitude\", \"Southern Hem. Wind Speed vs Latitude\",\n",
    "          \"southwindlat.png\")"
   ]
  },
  {
   "cell_type": "code",
   "execution_count": null,
   "metadata": {},
   "outputs": [],
   "source": [
    "\"\"\"\n",
    "Northern hemisphere wind speed and latitude display a positive linear\n",
    "relationship whilst southern hemisphere wind speed and latitude display\n",
    "a negative linear relationship.\n",
    "\"\"\""
   ]
  }
 ],
 "metadata": {
  "anaconda-cloud": {},
  "kernel_info": {
   "name": "python3"
  },
  "kernelspec": {
   "display_name": "Python 3",
   "language": "python",
   "name": "python3"
  },
  "language_info": {
   "codemirror_mode": {
    "name": "ipython",
    "version": 3
   },
   "file_extension": ".py",
   "mimetype": "text/x-python",
   "name": "python",
   "nbconvert_exporter": "python",
   "pygments_lexer": "ipython3",
   "version": "3.6.9"
  },
  "latex_envs": {
   "LaTeX_envs_menu_present": true,
   "autoclose": false,
   "autocomplete": true,
   "bibliofile": "biblio.bib",
   "cite_by": "apalike",
   "current_citInitial": 1,
   "eqLabelWithNumbers": true,
   "eqNumInitial": 1,
   "hotkeys": {
    "equation": "Ctrl-E",
    "itemize": "Ctrl-I"
   },
   "labels_anchors": false,
   "latex_user_defs": false,
   "report_style_numbering": false,
   "user_envs_cfg": false
  },
  "nteract": {
   "version": "0.12.3"
  }
 },
 "nbformat": 4,
 "nbformat_minor": 2
}
